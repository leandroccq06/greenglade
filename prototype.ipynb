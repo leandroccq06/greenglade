{
  "nbformat": 4,
  "nbformat_minor": 0,
  "metadata": {
    "colab": {
      "name": "prototype.ipynb",
      "provenance": [],
      "authorship_tag": "ABX9TyMVnjglgvMoOgcMmBZjnALI",
      "include_colab_link": true
    },
    "kernelspec": {
      "name": "python3",
      "display_name": "Python 3"
    }
  },
  "cells": [
    {
      "cell_type": "markdown",
      "metadata": {
        "id": "view-in-github",
        "colab_type": "text"
      },
      "source": [
        "<a href=\"https://colab.research.google.com/github/leandroccq06/greenglade/blob/master/prototype.ipynb\" target=\"_parent\"><img src=\"https://colab.research.google.com/assets/colab-badge.svg\" alt=\"Open In Colab\"/></a>"
      ]
    },
    {
      "cell_type": "code",
      "metadata": {
        "id": "3paSFFjQgEZY",
        "outputId": "bc8c2e2c-3c4b-483a-dad8-25f392fa7954",
        "colab": {
          "base_uri": "https://localhost:8080/"
        }
      },
      "source": [
        "!pip install unidecode\n",
        "import unicodedata\n",
        "\n",
        "#função para limpar o texto e retirar acentuações e caracteres especiais\n",
        "def limpar_texto(_texto):\n",
        "  texto = unicodedata.normalize(\"NFD\", _texto).encode(\"ascii\", \"ignore\").decode(\"utf-8\")\n",
        "  return texto"
      ],
      "execution_count": 1,
      "outputs": [
        {
          "output_type": "stream",
          "text": [
            "Collecting unidecode\n",
            "\u001b[?25l  Downloading https://files.pythonhosted.org/packages/d0/42/d9edfed04228bacea2d824904cae367ee9efd05e6cce7ceaaedd0b0ad964/Unidecode-1.1.1-py2.py3-none-any.whl (238kB)\n",
            "\r\u001b[K     |█▍                              | 10kB 12.5MB/s eta 0:00:01\r\u001b[K     |██▊                             | 20kB 17.3MB/s eta 0:00:01\r\u001b[K     |████▏                           | 30kB 11.0MB/s eta 0:00:01\r\u001b[K     |█████▌                          | 40kB 9.1MB/s eta 0:00:01\r\u001b[K     |██████▉                         | 51kB 4.3MB/s eta 0:00:01\r\u001b[K     |████████▎                       | 61kB 4.9MB/s eta 0:00:01\r\u001b[K     |█████████▋                      | 71kB 4.9MB/s eta 0:00:01\r\u001b[K     |███████████                     | 81kB 5.3MB/s eta 0:00:01\r\u001b[K     |████████████▍                   | 92kB 5.6MB/s eta 0:00:01\r\u001b[K     |█████████████▊                  | 102kB 5.9MB/s eta 0:00:01\r\u001b[K     |███████████████▏                | 112kB 5.9MB/s eta 0:00:01\r\u001b[K     |████████████████▌               | 122kB 5.9MB/s eta 0:00:01\r\u001b[K     |█████████████████▉              | 133kB 5.9MB/s eta 0:00:01\r\u001b[K     |███████████████████▎            | 143kB 5.9MB/s eta 0:00:01\r\u001b[K     |████████████████████▋           | 153kB 5.9MB/s eta 0:00:01\r\u001b[K     |██████████████████████          | 163kB 5.9MB/s eta 0:00:01\r\u001b[K     |███████████████████████▍        | 174kB 5.9MB/s eta 0:00:01\r\u001b[K     |████████████████████████▊       | 184kB 5.9MB/s eta 0:00:01\r\u001b[K     |██████████████████████████▏     | 194kB 5.9MB/s eta 0:00:01\r\u001b[K     |███████████████████████████▌    | 204kB 5.9MB/s eta 0:00:01\r\u001b[K     |████████████████████████████▉   | 215kB 5.9MB/s eta 0:00:01\r\u001b[K     |██████████████████████████████▎ | 225kB 5.9MB/s eta 0:00:01\r\u001b[K     |███████████████████████████████▋| 235kB 5.9MB/s eta 0:00:01\r\u001b[K     |████████████████████████████████| 245kB 5.9MB/s \n",
            "\u001b[?25hInstalling collected packages: unidecode\n",
            "Successfully installed unidecode-1.1.1\n"
          ],
          "name": "stdout"
        }
      ]
    },
    {
      "cell_type": "markdown",
      "metadata": {
        "id": "4Fl_CmvJBglH"
      },
      "source": [
        "Criptografar"
      ]
    },
    {
      "cell_type": "code",
      "metadata": {
        "id": "viVuvyI33Pxk",
        "outputId": "0335fb97-c7d1-486a-88ec-9b07b82c308f",
        "colab": {
          "base_uri": "https://localhost:8080/"
        }
      },
      "source": [
        "chave = input(\"Informe a chave: \")\n",
        "senha = input(\"Informe o texto a ser criptado: \")\n",
        "\n",
        "#verifica se o texto limpo é igual ao original, se não for apresenta o novo texto\n",
        "if(limpar_texto(chave) != chave):\n",
        "  chave = limpar_texto(chave)\n",
        "  print(\"A chave informada apresentava erros, então foi alterada para:\", chave)\n",
        " \n",
        "if(limpar_texto(senha) != senha):\n",
        "  senha = limpar_texto(senha)\n",
        "  print(\"A senha informada apresentava erros, então foi alterada para:\", senha)\n",
        " \n",
        "crypt = \"\"\n",
        "\n",
        "#modifica o tamanho da chave caso seja menor que o da senha para igualar\n",
        "for i in range(0, len(senha) - len(chave)):\n",
        "  chave = chave + chave[i]\n",
        "\n",
        "#gera o texto cifrado\n",
        "for letra in range(0, len(senha)):\n",
        "  #faz a soma das posições\n",
        "  soma = ord(senha[letra]) + ord(chave[letra])\n",
        "\n",
        "  #verifica se a soma ultrapassou o limite de 128 caracteres contando com a posição\n",
        "  #0 e subtrai por 128 caso seja verdade\n",
        "  if(soma > 127):\n",
        "    soma = soma - 128\n",
        "  \n",
        "  #gera o caractere com a posição nova e incrementa ao texto cifrado\n",
        "  crypt = crypt + chr(soma)\n",
        " \n",
        "print('crypt:', crypt)"
      ],
      "execution_count": 2,
      "outputs": [
        {
          "output_type": "stream",
          "text": [
            "Informe a chave: unip\n",
            "crypt: W`Jc^Z\n"
          ],
          "name": "stdout"
        }
      ]
    },
    {
      "cell_type": "markdown",
      "metadata": {
        "id": "s_P7T3TVBmu5"
      },
      "source": [
        "Decriptar"
      ]
    },
    {
      "cell_type": "code",
      "metadata": {
        "id": "dyAfkVgN3UdD",
        "outputId": "579c4eed-ac5c-4648-b830-2ebb5dc720fe",
        "colab": {
          "base_uri": "https://localhost:8080/"
        }
      },
      "source": [
        "chave = input(\"Informe a chave: \")\n",
        "crypt = input(\"Informe o texto a ser decriptado: \")\n",
        "\n",
        "#verifica se o texto limpo é igual ao original, se não for apresenta o novo texto\n",
        "if(limpar_texto(chave) != chave):\n",
        "  chave = limpar_texto(chave)\n",
        "  print(\"A chave informada apresentava erros, então foi alterada para:\", chave)\n",
        " \n",
        "if(limpar_texto(crypt) != crypt):\n",
        "  crypt = limpar_texto(crypt)\n",
        "  print(\"A chave informada apresentava erros, então foi alterada para:\", crypt)\n",
        "\n",
        "#cria a variavel decrypt no escopo global para ser usado dentro dos blocos for e\n",
        "#fora para ser exibido o resultado\n",
        "decrypt = \"\"\n",
        "\n",
        "#modifica o tamanho da chave caso seja menor que o da cifra para igualar\n",
        "for i in range(0, len(crypt) - len(chave)):\n",
        "  chave = chave + chave[i]\n",
        "\n",
        "#traduz a cifra para o texto original\n",
        "for i in range(0, len(crypt)):\n",
        "  #realiza a subtração das posições dos caracteres\n",
        "  subtracao = ord(crypt[i]) - ord(chave[i])\n",
        " \n",
        "  #verifica se a posição do caractere em questão tem a posição menor ou igual ao\n",
        "  #da chave e se a posição da chave é maior que 0, caso seja verdadeiro soma o \n",
        "  #resultado com 128\n",
        "  if(ord(crypt[i]) <= ord(chave[i]) and ord(crypt[i]) > 0):\n",
        "    subtracao = subtracao + 128\n",
        "  \n",
        "  #gera o caractere com a posição nova e incrementa ao texto cifrado\n",
        "  decrypt = decrypt + chr(subtracao)\n",
        " \n",
        "print('decrypt:', decrypt)"
      ],
      "execution_count": 3,
      "outputs": [
        {
          "output_type": "stream",
          "text": [
            "Informe a chave: unip\n",
            "Informe o texto a ser decriptado: W`Jc^Z\n",
            "decrypt: brasil\n"
          ],
          "name": "stdout"
        }
      ]
    }
  ]
}