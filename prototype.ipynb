{
  "nbformat": 4,
  "nbformat_minor": 0,
  "metadata": {
    "colab": {
      "name": "prototype.ipynb",
      "provenance": [],
      "authorship_tag": "ABX9TyMvMBmbjZkNU15zk5V/6nns",
      "include_colab_link": true
    },
    "kernelspec": {
      "name": "python3",
      "display_name": "Python 3"
    }
  },
  "cells": [
    {
      "cell_type": "markdown",
      "metadata": {
        "id": "view-in-github",
        "colab_type": "text"
      },
      "source": [
        "<a href=\"https://colab.research.google.com/github/leandroccq06/greenglade/blob/master/prototype.ipynb\" target=\"_parent\"><img src=\"https://colab.research.google.com/assets/colab-badge.svg\" alt=\"Open In Colab\"/></a>"
      ]
    },
    {
      "cell_type": "code",
      "metadata": {
        "id": "viVuvyI33Pxk",
        "outputId": "c0fc21e6-6fac-4220-8d19-1e3713f3edac",
        "colab": {
          "base_uri": "https://localhost:8080/"
        }
      },
      "source": [
        "chave = input(\"Informe a chave: \")\n",
        "senha = input(\"Informe o texto a ser criptado: \")\n",
        "crypt = \"\"\n",
        "\n",
        "if(len(chave) < len(senha)):\n",
        "  contador = 0\n",
        "  for i in range(0, len(senha)):\n",
        "    chave = chave + chave[contador]\n",
        "    if(contador == len(chave)):\n",
        "      contador = 0\n",
        "    else:\n",
        "      contador = contador + 1\n",
        "\n",
        "for letra in range(0, len(senha)):\n",
        "  soma = ord(senha[letra]) + ord(chave[letra])\n",
        "  if(soma > 127):\n",
        "    soma = soma - 128\n",
        "    \n",
        "  crypt = crypt + chr(soma)\n",
        "\n",
        "print('crypt:', crypt)\n",
        "\n"
      ],
      "execution_count": 1,
      "outputs": [
        {
          "output_type": "stream",
          "text": [
            "Informe a chave: unip\n",
            "Informe o texto a ser criptado: leandro\n",
            "108 117 97\n",
            "101 110 83\n",
            "97 105 74\n",
            "110 112 94\n",
            "100 117 89\n",
            "114 110 96\n",
            "111 105 88\n",
            "crypt: aSJ^Y`X\n"
          ],
          "name": "stdout"
        }
      ]
    },
    {
      "cell_type": "code",
      "metadata": {
        "id": "KGhcMupcw8cW"
      },
      "source": [
        ""
      ],
      "execution_count": 1,
      "outputs": []
    },
    {
      "cell_type": "code",
      "metadata": {
        "id": "dyAfkVgN3UdD",
        "outputId": "dfec759a-6ff8-42a3-fcde-5135076f7d38",
        "colab": {
          "base_uri": "https://localhost:8080/"
        }
      },
      "source": [
        "chave = input(\"Informe a chave: \")\n",
        "crypt = input(\"Informe o texto a ser decriptado: \")\n",
        "decrypt = \"\"\n",
        "\n",
        "if(len(chave) < len(crypt)):\n",
        "  contador = 0\n",
        "  for i in range(0, len(senha)):\n",
        "    chave = chave + chave[contador]\n",
        "    if(contador == len(chave)):\n",
        "      contador = 0\n",
        "    else:\n",
        "      contador = contador + 1\n",
        "\n",
        "for i in range(0, len(crypt)):\n",
        "  subtracao = ord(crypt[i]) - ord(chave[i])\n",
        "\n",
        "  if(ord(crypt[i]) <= ord(chave[i])):\n",
        "    subtracao = subtracao + 128\n",
        "  \n",
        "  decrypt = decrypt + chr(subtracao)\n",
        "\n",
        "print('decrypt:', decrypt)"
      ],
      "execution_count": 6,
      "outputs": [
        {
          "output_type": "stream",
          "text": [
            "Informe a chave: unip\n",
            "Informe o texto a ser decriptado: aSJ^Y`X\n",
            "97 a 117 u\n",
            "83 S 110 n\n",
            "74 J 105 i\n",
            "94 ^ 112 p\n",
            "89 Y 117 u\n",
            "96 ` 110 n\n",
            "88 X 105 i\n",
            "decrypt: leandro\n"
          ],
          "name": "stdout"
        }
      ]
    }
  ]
}