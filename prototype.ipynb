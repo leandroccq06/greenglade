{
  "nbformat": 4,
  "nbformat_minor": 0,
  "metadata": {
    "colab": {
      "name": "prototype.ipynb",
      "provenance": [],
      "authorship_tag": "ABX9TyOvJmfOaum4M3Vp/S9Mpmno",
      "include_colab_link": true
    },
    "kernelspec": {
      "name": "python3",
      "display_name": "Python 3"
    }
  },
  "cells": [
    {
      "cell_type": "markdown",
      "metadata": {
        "id": "view-in-github",
        "colab_type": "text"
      },
      "source": [
        "<a href=\"https://colab.research.google.com/github/leandroccq06/greenglade/blob/master/prototype.ipynb\" target=\"_parent\"><img src=\"https://colab.research.google.com/assets/colab-badge.svg\" alt=\"Open In Colab\"/></a>"
      ]
    },
    {
      "cell_type": "markdown",
      "metadata": {
        "id": "4Fl_CmvJBglH"
      },
      "source": [
        "Criptografar"
      ]
    },
    {
      "cell_type": "code",
      "metadata": {
        "id": "viVuvyI33Pxk",
        "outputId": "5aa44167-ec0d-4887-8b81-07eb314cd77f",
        "colab": {
          "base_uri": "https://localhost:8080/"
        }
      },
      "source": [
        "chave = input(\"Informe a chave: \")\n",
        "senha = input(\"Informe o texto a ser criptado: \")\n",
        "crypt = \"\"\n",
        "\n",
        "for i in range(0, len(senha) - len(chave)):\n",
        "  chave = chave + chave[i]\n",
        "\n",
        "for letra in range(0, len(senha)):\n",
        "  soma = ord(senha[letra]) + ord(chave[letra])\n",
        "  if(soma > 127):\n",
        "    soma = soma - 128\n",
        "    \n",
        "  crypt = crypt + chr(soma)\n",
        "\n",
        "print('crypt:', crypt)\n",
        "\n"
      ],
      "execution_count": 10,
      "outputs": [
        {
          "output_type": "stream",
          "text": [
            "Informe a chave: unip\n",
            "Informe o texto a ser criptado: vigenere\n",
            "crypt: kWPUcS[U\n"
          ],
          "name": "stdout"
        }
      ]
    },
    {
      "cell_type": "markdown",
      "metadata": {
        "id": "s_P7T3TVBmu5"
      },
      "source": [
        "Decriptar"
      ]
    },
    {
      "cell_type": "code",
      "metadata": {
        "id": "dyAfkVgN3UdD",
        "outputId": "1307b2bc-e1e1-4ec1-9b7e-4c98fe1ef3fc",
        "colab": {
          "base_uri": "https://localhost:8080/"
        }
      },
      "source": [
        "chave = input(\"Informe a chave: \")\n",
        "crypt = input(\"Informe o texto a ser decriptado: \")\n",
        "decrypt = \"\"\n",
        "\n",
        "for i in range(0, len(crypt) - len(chave)):\n",
        "  chave = chave + chave[i]\n",
        "\n",
        "for i in range(0, len(crypt)):\n",
        "  subtracao = ord(crypt[i]) - ord(chave[i])\n",
        "\n",
        "  if(ord(crypt[i]) <= ord(chave[i])):\n",
        "    subtracao = subtracao + 128\n",
        "  \n",
        "  decrypt = decrypt + chr(subtracao)\n",
        "\n",
        "print('decrypt:', decrypt)"
      ],
      "execution_count": 11,
      "outputs": [
        {
          "output_type": "stream",
          "text": [
            "Informe a chave: unip\n",
            "Informe o texto a ser decriptado: kWPUcS[U\n",
            "decrypt: vigenere\n"
          ],
          "name": "stdout"
        }
      ]
    }
  ]
}