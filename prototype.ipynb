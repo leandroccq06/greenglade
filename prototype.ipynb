{
  "nbformat": 4,
  "nbformat_minor": 0,
  "metadata": {
    "colab": {
      "name": "prototype.ipynb",
      "provenance": [],
      "authorship_tag": "ABX9TyMvMBmbjZkNU15zk5V/6nns",
      "include_colab_link": true
    },
    "kernelspec": {
      "name": "python3",
      "display_name": "Python 3"
    }
  },
  "cells": [
    {
      "cell_type": "markdown",
      "metadata": {
        "id": "view-in-github",
        "colab_type": "text"
      },
      "source": [
        "<a href=\"https://colab.research.google.com/github/leandroccq06/greenglade/blob/master/prototype.ipynb\" target=\"_parent\"><img src=\"https://colab.research.google.com/assets/colab-badge.svg\" alt=\"Open In Colab\"/></a>"
      ]
    },
    {
      "cell_type": "code",
      "metadata": {
        "id": "viVuvyI33Pxk",
        "outputId": "2020f84d-8413-4f80-c9fe-d96726263c19",
        "colab": {
          "base_uri": "https://localhost:8080/"
        }
      },
      "source": [
        "chave = input(\"Informe a chave: \")\n",
        "senha = input(\"Informe o texto a ser criptado: \")\n",
        "crypt = \"\"\n",
        "\n",
        "if(len(chave) < len(senha)):\n",
        "  contador = 0\n",
        "  for i in range(0, len(senha)):\n",
        "    chave = chave + chave[contador]\n",
        "    if(contador == len(chave)):\n",
        "      contador = 0\n",
        "    else:\n",
        "      contador = contador + 1\n",
        "\n",
        "for letra in range(0, len(senha)):\n",
        "  soma = ord(senha[letra]) + ord(chave[letra])\n",
        "  if(soma > 127):\n",
        "    soma = soma - 128\n",
        "    \n",
        "  crypt = crypt + chr(soma)\n",
        "\n",
        "print('crypt:', crypt)\n",
        "\n"
      ],
      "execution_count": 9,
      "outputs": [
        {
          "output_type": "stream",
          "text": [
            "Informe a chave: unip\n",
            "Informe o texto a ser criptado: vigenere\n",
            "crypt: kWPUcS[U\n"
          ],
          "name": "stdout"
        }
      ]
    },
    {
      "cell_type": "code",
      "metadata": {
        "id": "KGhcMupcw8cW"
      },
      "source": [
        ""
      ],
      "execution_count": 1,
      "outputs": []
    },
    {
      "cell_type": "code",
      "metadata": {
        "id": "dyAfkVgN3UdD",
        "outputId": "4732f8ea-1606-48b5-e4a7-c48853391bc9",
        "colab": {
          "base_uri": "https://localhost:8080/"
        }
      },
      "source": [
        "chave = input(\"Informe a chave: \")\n",
        "crypt = input(\"Informe o texto a ser decriptado: \")\n",
        "decrypt = \"\"\n",
        "\n",
        "if(len(chave) < len(crypt)):\n",
        "  contador = 0\n",
        "  for i in range(0, len(senha)):\n",
        "    chave = chave + chave[contador]\n",
        "    if(contador == len(chave)):\n",
        "      contador = 0\n",
        "    else:\n",
        "      contador = contador + 1\n",
        "\n",
        "for i in range(0, len(crypt)):\n",
        "  subtracao = ord(crypt[i]) - ord(chave[i])\n",
        "\n",
        "  if(ord(crypt[i]) <= ord(chave[i])):\n",
        "    subtracao = subtracao + 128\n",
        "  \n",
        "  decrypt = decrypt + chr(subtracao)\n",
        "\n",
        "print('decrypt:', decrypt)"
      ],
      "execution_count": 10,
      "outputs": [
        {
          "output_type": "stream",
          "text": [
            "Informe a chave: unip\n",
            "Informe o texto a ser decriptado: kWPUcS[U\n",
            "decrypt: vigenere\n"
          ],
          "name": "stdout"
        }
      ]
    }
  ]
}