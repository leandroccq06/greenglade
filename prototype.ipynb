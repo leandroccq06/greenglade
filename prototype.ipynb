{
  "nbformat": 4,
  "nbformat_minor": 0,
  "metadata": {
    "colab": {
      "name": "prototype.ipynb",
      "provenance": [],
      "authorship_tag": "ABX9TyMsFspdIAimbVJh+ZSwWSI+",
      "include_colab_link": true
    },
    "kernelspec": {
      "name": "python3",
      "display_name": "Python 3"
    }
  },
  "cells": [
    {
      "cell_type": "markdown",
      "metadata": {
        "id": "view-in-github",
        "colab_type": "text"
      },
      "source": [
        "<a href=\"https://colab.research.google.com/github/leandroccq06/greenglade/blob/master/prototype.ipynb\" target=\"_parent\"><img src=\"https://colab.research.google.com/assets/colab-badge.svg\" alt=\"Open In Colab\"/></a>"
      ]
    },
    {
      "cell_type": "markdown",
      "metadata": {
        "id": "HsT9BmdcH50O"
      },
      "source": [
        "Instalação de dependências"
      ]
    },
    {
      "cell_type": "code",
      "metadata": {
        "id": "3paSFFjQgEZY",
        "outputId": "c7e20484-2dcc-4d6b-cafa-f7c4b69e5031",
        "colab": {
          "base_uri": "https://localhost:8080/",
          "height": 0
        }
      },
      "source": [
        "#instala o unidecode\n",
        "!pip install unidecode\n",
        "import unicodedata\n",
        "\n",
        "#função para limpar o texto e retirar acentuações e caracteres especiais\n",
        "def limpar_texto(_texto):\n",
        "  texto = unicodedata.normalize(\"NFD\", _texto).encode(\"ascii\", \"ignore\").decode(\"utf-8\")\n",
        "  return texto"
      ],
      "execution_count": 4,
      "outputs": [
        {
          "output_type": "stream",
          "text": [
            "Requirement already satisfied: unidecode in /usr/local/lib/python3.6/dist-packages (1.1.1)\n"
          ],
          "name": "stdout"
        }
      ]
    },
    {
      "cell_type": "markdown",
      "metadata": {
        "id": "4Fl_CmvJBglH"
      },
      "source": [
        "Criptografar"
      ]
    },
    {
      "cell_type": "code",
      "metadata": {
        "id": "viVuvyI33Pxk",
        "outputId": "82698f83-1db0-41f8-85ed-88e94f010656",
        "colab": {
          "base_uri": "https://localhost:8080/",
          "height": 0
        }
      },
      "source": [
        "chave = input(\"Informe a chave: \")\n",
        "senha = input(\"Informe o texto a ser criptado: \")\n",
        "\n",
        "#verifica se o texto limpo é igual ao original, se não for apresenta o novo texto\n",
        "if(limpar_texto(chave) != chave):\n",
        "  chave = limpar_texto(chave)\n",
        "  print(\"A chave informada apresentava erros, então foi alterada para:\", chave)\n",
        " \n",
        "if(limpar_texto(senha) != senha):\n",
        "  senha = limpar_texto(senha)\n",
        "  print(\"A senha informada apresentava erros, então foi alterada para:\", senha)\n",
        " \n",
        "crypt = \"\"\n",
        "\n",
        "#modifica o tamanho da chave caso seja menor que o da senha para igualar\n",
        "for i in range(0, len(senha) - len(chave)):\n",
        "  chave = chave + chave[i]\n",
        "\n",
        "#gera o texto cifrado\n",
        "for letra in range(0, len(senha)):\n",
        "  #faz a soma das posições\n",
        "  soma = ord(senha[letra]) + ord(chave[letra])\n",
        "\n",
        "  #verifica se a soma ultrapassou o limite de 128 caracteres contando com a posição\n",
        "  #0 e subtrai por 128 caso seja verdade\n",
        "  if(soma > 127):\n",
        "    soma = soma - 128\n",
        "  \n",
        "  #gera o caractere com a posição nova e incrementa ao texto cifrado\n",
        "  crypt = crypt + chr(soma)\n",
        " \n",
        "print('crypt:', crypt)"
      ],
      "execution_count": 5,
      "outputs": [
        {
          "output_type": "stream",
          "text": [
            "Informe a chave: unip\n",
            "Informe o texto a ser criptado: Brasil 7 x 1 Alemanha\n",
            "crypt: 7`Jc^Z\t'\u0015f\t!\u0015/UUbOWXV\n"
          ],
          "name": "stdout"
        }
      ]
    },
    {
      "cell_type": "markdown",
      "metadata": {
        "id": "s_P7T3TVBmu5"
      },
      "source": [
        "Decriptar"
      ]
    },
    {
      "cell_type": "code",
      "metadata": {
        "id": "dyAfkVgN3UdD",
        "outputId": "7e99d395-f962-43b0-bb5d-63e9bd698c45",
        "colab": {
          "base_uri": "https://localhost:8080/",
          "height": 0
        }
      },
      "source": [
        "chave = input(\"Informe a chave: \")\n",
        "crypt = input(\"Informe o texto a ser decriptado: \")\n",
        "\n",
        "#verifica se o texto limpo é igual ao original, se não for apresenta o novo texto\n",
        "if(limpar_texto(chave) != chave):\n",
        "  chave = limpar_texto(chave)\n",
        "  print(\"A chave informada apresentava erros, então foi alterada para:\", chave)\n",
        " \n",
        "if(limpar_texto(crypt) != crypt):\n",
        "  crypt = limpar_texto(crypt)\n",
        "  print(\"A chave informada apresentava erros, então foi alterada para:\", crypt)\n",
        "\n",
        "#cria a variavel decrypt no escopo global para ser usado dentro dos blocos for e\n",
        "#fora para ser exibido o resultado\n",
        "decrypt = \"\"\n",
        "\n",
        "#modifica o tamanho da chave caso seja menor que o da cifra para igualar\n",
        "for i in range(0, len(crypt) - len(chave)):\n",
        "  chave = chave + chave[i]\n",
        "\n",
        "#traduz a cifra para o texto original\n",
        "for i in range(0, len(crypt)):\n",
        "  #realiza a subtração das posições dos caracteres\n",
        "  subtracao = ord(crypt[i]) - ord(chave[i])\n",
        " \n",
        "  #verifica se a posição do caractere em questão tem a posição menor ou igual ao\n",
        "  #da chave e se a posição da chave é maior que 0, caso seja verdadeiro soma o \n",
        "  #resultado com 128\n",
        "  if(ord(crypt[i]) <= ord(chave[i]) and ord(crypt[i]) > 0):\n",
        "    subtracao = subtracao + 128\n",
        "  \n",
        "  #gera o caractere com a posição nova e incrementa ao texto cifrado\n",
        "  decrypt = decrypt + chr(subtracao)\n",
        " \n",
        "print('decrypt:', decrypt)"
      ],
      "execution_count": 6,
      "outputs": [
        {
          "output_type": "stream",
          "text": [
            "Informe a chave: unip\n",
            "Informe o texto a ser decriptado: 7`Jc^Z\t'\u0015f\t!\u0015/UUbOWXV\n",
            "decrypt: Brasil 7 x 1 Alemanha\n"
          ],
          "name": "stdout"
        }
      ]
    }
  ]
}